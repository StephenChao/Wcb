{
 "cells": [
  {
   "cell_type": "code",
   "execution_count": null,
   "metadata": {},
   "outputs": [],
   "source": [
    "\n",
    "import random\n",
    "import pandas as pd\n",
    "import numpy as np\n",
    "import awkward as ak\n",
    "import matplotlib as mpl\n",
    "import matplotlib.pyplot as plt\n",
    "import mplhep as hep\n",
    "import boost_histogram as bh\n",
    "\n",
    "from sklearn.metrics import classification_report, roc_auc_score\n",
    "from scipy import interpolate\n",
    "from sklearn.metrics import roc_curve, auc\n",
    "from cycler import cycler\n",
    "# from awkward import ak\n",
    "\n",
    "import uproot ## means uproot4\n",
    "import sklearn.metrics as m\n",
    "\n",
    "use_helvet = False ## true: use helvetica for plots, make sure the system have the font installed\n",
    "if use_helvet:\n",
    "    CMShelvet = hep.style.CMS\n",
    "    CMShelvet['font.sans-serif'] = ['Helvetica', 'Arial']\n",
    "    plt.style.use(CMShelvet)\n",
    "else:\n",
    "    plt.style.use(hep.style.CMS)\n",
    "\n",
    "\n",
    "CustNanoData = {\n",
    "    'Data'  : \"/data/bond/zhaoyz/Tree/Wcb_V2/2017/Merged/Data/Tree_Data.root\",            \n",
    "    'QCD'   : \"/data/bond/zhaoyz/Tree/Wcb_V2/2017/Merged/MC/Tree_QCD.root\",            \n",
    "    # 'Wcb'   : \"/data/bond/zhaoyz/Tree/V5/Merged/2017/Signal/Tree_Wcb.root\",\n",
    "\n",
    "                                \n",
    "}\n",
    "events = {typefile : {} for typefile in CustNanoData}\n",
    "for typefile in CustNanoData:\n",
    "    events[typefile] = uproot.lazy({CustNanoData[typefile]: \"PKUTree\" }) ## lazy means lazy computation style\n",
    "    # for var in ak_arrays.fields:\n",
    "    #     if \"HLT\" in var or \"FatJet\" in var:\n",
    "    #         events[year][var] = ak_arrays[var]"
   ]
  },
  {
   "cell_type": "code",
   "execution_count": null,
   "metadata": {},
   "outputs": [],
   "source": [
    "MAIN_DIR = \"..\"\n",
    "\n",
    "plot_dir = f\"{MAIN_DIR}/plots/trigger/21May2024\"\n",
    "_ = os.system(f\"mkdir -p {plot_dir}\")"
   ]
  },
  {
   "cell_type": "code",
   "execution_count": null,
   "metadata": {},
   "outputs": [],
   "source": [
    "#Not have MET\n",
    "def plot_effi_onlynum(events, x_label, y_label, isData = False, xmin = 200, xmax = 1200, bins = 500, legend_location='best'):\n",
    "    if x_label == y_label: return\n",
    "    \"\"\"\n",
    "    events: a dictionary, events.values() are collections of events\n",
    "    \"\"\"\n",
    "    x_score, y_score = 'score_'+x_label, 'score_'+y_label\n",
    "    \n",
    "    plt.figure(figsize=(10,10))\n",
    "    ax=plt.gca()\n",
    "    plt.grid()\n",
    "    hep.cms.label(data= isData, label = \"Preliminary\", year=\"2017\", ax=ax, fontname='sans-serif')\n",
    "    plt.rcParams['axes.prop_cycle'] = cycler(color=[\"tab:blue\",\t\"tab:orange\",\t\"tab:green\",\t\"tab:red\",\t\"tab:purple\", \"tab:brown\", \"tab:pink\", \"k\",\"tab:olive\" ,\t\"tab:cyan\", \"tab:gray\"])\n",
    "    \n",
    "    # plt.plot([plt.xlim()[0],plt.xlim()[1]], [0.01,0.01], linestyle=\"dashed\", lw=2, color='gray')    \n",
    " \n",
    "     \n",
    "    TriggerList = [\n",
    " 'HLT_AK8PFJet500',\n",
    " 'HLT_PFJet500',\n",
    " 'HLT_AK8PFJet360_TrimMass30',\n",
    " 'HLT_PFHT1050',\n",
    " 'HLT_AK8PFJet380_TrimMass30',\n",
    " 'HLT_AK8PFJet400_TrimMass30',\n",
    " 'HLT_AK8PFJet420_TrimMass30',\n",
    " 'HLT_AK8PFHT750_TrimMass50',\n",
    " 'HLT_AK8PFHT800_TrimMass50',\n",
    " 'HLT_AK8PFHT850_TrimMass50',\n",
    " 'HLT_AK8PFHT900_TrimMass50']\n",
    "    \n",
    "    for Trigger in TriggerList:\n",
    "\n",
    "        hist1 = bh.Histogram(bh.axis.Regular(bins, xmin, xmax), storage=bh.storage.Weight())\n",
    "        events_Cut = events[events[Trigger] == True]\n",
    "        if isData :\n",
    "            hist1.fill(events_Cut[x_label])\n",
    "        else : hist1.fill(events_Cut[x_label], weight=events_Cut[\"weight\"]*events_Cut[\"TriggerSF\"])\n",
    "        y1 = hist1.view().value\n",
    "        y_1 = ak.Array([ak.sum(y1[i:]) for i in range(0, len(y1))])\n",
    "\n",
    "        hist2 = bh.Histogram(bh.axis.Regular(bins, xmin, xmax), storage=bh.storage.Weight())\n",
    "        if isData :\n",
    "            hist2.fill(events[x_label])\n",
    "        else : hist2.fill(events[x_label],weight=events[\"weight\"])\n",
    "        y2 = hist2.view().value\n",
    "        y_2 = ak.Array([ak.sum(y2[i:]) for i in range(0, len(y2))])\n",
    "\n",
    "        y = y_1/y_2\n",
    "        PtValue = [i for i in np.arange (xmin,xmax,(xmax - xmin)/ bins)]\n",
    "        plt.plot(PtValue, y, linestyle=\"solid\", lw=2,label = Trigger)\n",
    "\n",
    "    hist1 = bh.Histogram(bh.axis.Regular(bins, xmin, xmax), storage=bh.storage.Weight())\n",
    "    events_Cut = events[ (events[\"HLT_PFJet500\"] == True)|(events[\"HLT_AK8PFJet500\"] == True) | (events[\"HLT_AK8PFJet360_TrimMass30\"] == True) | (events[\"HLT_PFHT1050\"] == True) | (events[\"HLT_AK8PFJet380_TrimMass30\"] == True) | (events[\"HLT_AK8PFJet400_TrimMass30\"] == True) | (events[\"HLT_AK8PFJet420_TrimMass30\"] == True) | (events[\"HLT_AK8PFHT750_TrimMass50\"] == True) | (events[\"HLT_AK8PFHT800_TrimMass50\"] == True) | (events[\"HLT_AK8PFHT850_TrimMass50\"] == True) | (events[\"HLT_AK8PFHT900_TrimMass50\"] == True)]\n",
    "    if isData :\n",
    "        hist1.fill(events_Cut[x_label])\n",
    "    else : hist1.fill(events_Cut[x_label],weight=events_Cut[\"weight\"]*events_Cut[\"TriggerSF\"])\n",
    "    y1 = hist1.view().value\n",
    "    y_1 = ak.Array([ak.sum(y1[i:]) for i in range(0, len(y1))])\n",
    "\n",
    "    hist2 = bh.Histogram(bh.axis.Regular(bins, xmin, xmax), storage=bh.storage.Weight())\n",
    "    if isData : \n",
    "        hist2.fill(events[x_label])\n",
    "    else : hist2.fill(events[x_label],weight=events[\"weight\"])\n",
    "    y2 = hist2.view().value\n",
    "    y_2 = ak.Array([ak.sum(y2[i:]) for i in range(0, len(y2))])\n",
    "    y = y_1/y_2\n",
    "    PtValue = [i for i in np.arange (xmin,xmax,(xmax - xmin)/bins)]\n",
    "    plt.plot(PtValue, y, linestyle=\"dashed\", lw=2,label = \"Combination\",color = \"tab:blue\")\n",
    "    \n",
    "    plt.xlim(xmin,xmax)\n",
    "    if \"M\" in x_label:\n",
    "        plt.ylim(0.0,1.4)\n",
    "    else : plt.ylim(0.0,1.4)\n",
    "    plt.plot([plt.xlim()[0],plt.xlim()[1]], [1,1], linestyle=\"dashed\", lw=2, color='gray')   \n",
    "    x_label_show = x_label\n",
    "    if x_label == \"PTj\" : x_label_show = r\"Leading jet $p_{T}$\"\n",
    "    if x_label == \"Mj\" : x_label_show = r\"Leading  $p_{T}$ jet $m_{SD}$\"\n",
    "    if x_label == \"Mj_max\" : x_label_show = r\"Max jet $m_{SD}$\"\n",
    "    if x_label == \"PTj_max\" : x_label_show = r\"Max mass jet $p_{T}$\"\n",
    "    if x_label == \"Mj_V2_a\" : x_label_show = r\"Wcb candidate jet $m_{SD}$\"\n",
    "    if x_label == \"PTj_V2_a\" : x_label_show = r\"Wcb candidate jet $p_{T}$\"\n",
    "    if x_label == \"MET_et\" : x_label_show = r\"MET\"\n",
    "    plt.xlabel(x_label_show, fontsize=24, ha='right', x=1)\n",
    "    plt.ylabel('Efficiency', fontsize=24, ha='right', y=1)\n",
    "    # plt.yscale('log')\n",
    "    plt.xticks(size=14)\n",
    "    plt.yticks(size=14)\n",
    "\n",
    "    #plt.title('ROC Curve of HWW4q vs. QCD', fontsize=24,color=\"black\")\n",
    "    plt.legend(loc=legend_location,frameon=False,fontsize=13)\n",
    "\n",
    "    plt.text(xmin + 0.05*(xmax - xmin), 1.2, \"Triggers(\" + y_label + \" at PS)\", fontsize=26, color=\"black\")\n",
    "    # plt.text(0.03, 0.4e-0, \" HWW vs QCD\", fontsize=26, color=\"black\")\n",
    "    # plt.text(0.03, 0.2e-0, rf\"$\\rm {pt_min}GeV<p_T<{pt_max}GeV,\\ |\\eta|<{abs_eta_max},\\ \\rm {mass_min}GeV<m_{{SD}}<{mass_max}GeV$\", fontsize=16,color=\"black\")  \n",
    "    plt.savefig(\"./2017\" + y_label + x_label + \"Trigger.pdf\", bbox_inches='tight')\n",
    "    plt.show()\n",
    "    "
   ]
  },
  {
   "cell_type": "code",
   "execution_count": null,
   "metadata": {},
   "outputs": [],
   "source": [
    "plot_effi_onlynum(events=events[\"QCD\"], x_label=\"PTj_V2_a\", y_label = \"QCD\",  xmin = 200.0, xmax = 1200.0, bins = 500, legend_location='lower right')\n",
    "plot_effi_onlynum(events=events[\"QCD\"], x_label=\"Mj_V2_a\", y_label = \"QCD\",  xmin = 0, xmax = 300.0, bins = 300, legend_location='lower right')\n"
   ]
  },
  {
   "cell_type": "code",
   "execution_count": null,
   "metadata": {},
   "outputs": [],
   "source": [
    "# plot_effi_onlynum(events=events[\"Signal\"], x_label=\"PTj_V2_a\", y_label = \"Signal\", xmin = 200.0, xmax = 1200.0, bins = 500, legend_location='lower right')\n",
    "# plot_effi_onlynum(events=events[\"Signal\"], x_label=\"Mj_V2_a\", y_label = \"Signal\", xmin = 0.0, xmax = 300.0, bins = 300, legend_location='lower right')\n"
   ]
  },
  {
   "cell_type": "code",
   "execution_count": null,
   "metadata": {},
   "outputs": [],
   "source": [
    "plot_effi(events=events[\"Data\"], x_label=\"PTj_V2_a\", y_label = \"JetHT\", isData = True, xmin = 200.0, xmax = 1200.0, bins = 500, legend_location='lower right')"
   ]
  },
  {
   "cell_type": "code",
   "execution_count": null,
   "metadata": {},
   "outputs": [],
   "source": [
    "plot_effi(events=events[\"Data\"], x_label=\"Mj_V2_a\",  y_label = \"JetHT\", isData = True, xmin = 0.0, xmax = 300.0, bins = 300, legend_location='lower right')"
   ]
  },
  {
   "cell_type": "code",
   "execution_count": null,
   "metadata": {},
   "outputs": [],
   "source": []
  },
  {
   "cell_type": "code",
   "execution_count": null,
   "metadata": {},
   "outputs": [],
   "source": []
  },
  {
   "cell_type": "code",
   "execution_count": null,
   "metadata": {},
   "outputs": [],
   "source": []
  }
 ],
 "metadata": {
  "kernelspec": {
   "display_name": "Python 3.8.11 ('base': conda)",
   "language": "python",
   "name": "python3"
  },
  "language_info": {
   "codemirror_mode": {
    "name": "ipython",
    "version": 3
   },
   "file_extension": ".py",
   "mimetype": "text/x-python",
   "name": "python",
   "nbconvert_exporter": "python",
   "pygments_lexer": "ipython3",
   "version": "3.8.17"
  },
  "vscode": {
   "interpreter": {
    "hash": "42b66ccadc3dcb2a548c5829117ed01e6a6676879497c63ab523657f90856c25"
   }
  }
 },
 "nbformat": 4,
 "nbformat_minor": 4
}
