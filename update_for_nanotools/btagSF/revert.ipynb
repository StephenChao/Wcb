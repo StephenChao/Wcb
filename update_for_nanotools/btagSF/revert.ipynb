{
 "cells": [
  {
   "cell_type": "code",
   "execution_count": 85,
   "id": "d91255a2-7316-41b5-8f3e-fb2a6317ae02",
   "metadata": {},
   "outputs": [],
   "source": [
    "from decimal import Decimal\n",
    "import os,sys\n",
    "import pandas as pd\n",
    "import csv\n",
    "\n",
    "df = pd.read_csv(\"./DeepCSV_106XUL18SF.csv\")\n",
    "\n",
    "df.loc[:,\"OperatingPoint\"] = df.loc[:,\"OperatingPoint\"].apply(lambda x: 0 if x == \"L\" else (1 if x == \"M\" else (2 if x == \"T\" else (3 if x == \"shape\" else x))))\n",
    "df.rename(columns={'formula ':'formula'}, inplace=True)\n",
    "df.loc[:,\"formula\"] = df.loc[:,\"formula\"].apply(lambda x: '\"'+x.rstrip()+'\"' if True else 0)\n",
    "\n",
    "df.loc[:,\"jetFlavor\"] = df.loc[:,\"jetFlavor\"].apply(lambda x: 0 if x == 5 else (1 if x == 4 else (2 if x == 0 else x)))\n",
    "# df.columns\n",
    "# df\n",
    "\n",
    "df.to_csv(\"./test_DeepCSV_106XUL18SF.csv\", index=False, header=True, quoting=csv.QUOTE_NONE)"
   ]
  }
 ],
 "metadata": {
  "kernelspec": {
   "display_name": "Python 3",
   "language": "python",
   "name": "python3"
  },
  "language_info": {
   "codemirror_mode": {
    "name": "ipython",
    "version": 3
   },
   "file_extension": ".py",
   "mimetype": "text/x-python",
   "name": "python",
   "nbconvert_exporter": "python",
   "pygments_lexer": "ipython3",
   "version": "3.7.10"
  }
 },
 "nbformat": 4,
 "nbformat_minor": 5
}
